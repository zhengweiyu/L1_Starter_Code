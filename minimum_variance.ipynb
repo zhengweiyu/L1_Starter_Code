{
  "nbformat": 4,
  "nbformat_minor": 0,
  "metadata": {
    "colab": {
      "name": "minimum_variance.ipynb",
      "provenance": [],
      "collapsed_sections": [],
      "authorship_tag": "ABX9TyNfdHTTIDoNKOH7WkFFy7F6",
      "include_colab_link": true
    },
    "kernelspec": {
      "name": "python3",
      "display_name": "Python 3"
    }
  },
  "cells": [
    {
      "cell_type": "markdown",
      "metadata": {
        "id": "view-in-github",
        "colab_type": "text"
      },
      "source": [
        "<a href=\"https://colab.research.google.com/github/zhengweiyu/L1_Starter_Code/blob/master/minimum_variance.ipynb\" target=\"_parent\"><img src=\"https://colab.research.google.com/assets/colab-badge.svg\" alt=\"Open In Colab\"/></a>"
      ]
    },
    {
      "cell_type": "markdown",
      "metadata": {
        "id": "m4eLUUCgBDKS",
        "colab_type": "text"
      },
      "source": [
        "# Project: Minimum variance"
      ]
    },
    {
      "cell_type": "markdown",
      "metadata": {
        "id": "jx3HgJNgHIoH",
        "colab_type": "text"
      },
      "source": [
        "利用最小方差对投资组合进行优化，组合包括科技股，美国长期债券，黄金三种资产。"
      ]
    },
    {
      "cell_type": "markdown",
      "metadata": {
        "id": "5tYVXLjKGlcO",
        "colab_type": "text"
      },
      "source": [
        "### Install Packages"
      ]
    },
    {
      "cell_type": "code",
      "metadata": {
        "id": "suKUJF46BAwl",
        "colab_type": "code",
        "outputId": "177f859d-2dfb-4639-8542-8ff0a66bd0a6",
        "colab": {
          "base_uri": "https://localhost:8080/",
          "height": 420
        }
      },
      "source": [
        "!pip install alpaca-trade-api"
      ],
      "execution_count": 0,
      "outputs": [
        {
          "output_type": "stream",
          "text": [
            "Requirement already satisfied: alpaca-trade-api in /usr/local/lib/python3.6/dist-packages (0.46)\n",
            "Requirement already satisfied: pandas in /usr/local/lib/python3.6/dist-packages (from alpaca-trade-api) (1.0.3)\n",
            "Requirement already satisfied: urllib3<1.25 in /usr/local/lib/python3.6/dist-packages (from alpaca-trade-api) (1.24.3)\n",
            "Requirement already satisfied: requests in /usr/local/lib/python3.6/dist-packages (from alpaca-trade-api) (2.21.0)\n",
            "Requirement already satisfied: websockets>=8.0 in /usr/local/lib/python3.6/dist-packages (from alpaca-trade-api) (8.1)\n",
            "Requirement already satisfied: alpha-vantage in /usr/local/lib/python3.6/dist-packages (from alpaca-trade-api) (2.2.0)\n",
            "Requirement already satisfied: deprecated in /usr/local/lib/python3.6/dist-packages (from alpaca-trade-api) (1.2.9)\n",
            "Requirement already satisfied: websocket-client in /usr/local/lib/python3.6/dist-packages (from alpaca-trade-api) (0.57.0)\n",
            "Requirement already satisfied: asyncio-nats-client in /usr/local/lib/python3.6/dist-packages (from alpaca-trade-api) (0.10.0)\n",
            "Requirement already satisfied: numpy>=1.13.3 in /usr/local/lib/python3.6/dist-packages (from pandas->alpaca-trade-api) (1.18.3)\n",
            "Requirement already satisfied: python-dateutil>=2.6.1 in /usr/local/lib/python3.6/dist-packages (from pandas->alpaca-trade-api) (2.8.1)\n",
            "Requirement already satisfied: pytz>=2017.2 in /usr/local/lib/python3.6/dist-packages (from pandas->alpaca-trade-api) (2018.9)\n",
            "Requirement already satisfied: chardet<3.1.0,>=3.0.2 in /usr/local/lib/python3.6/dist-packages (from requests->alpaca-trade-api) (3.0.4)\n",
            "Requirement already satisfied: certifi>=2017.4.17 in /usr/local/lib/python3.6/dist-packages (from requests->alpaca-trade-api) (2020.4.5.1)\n",
            "Requirement already satisfied: idna<2.9,>=2.5 in /usr/local/lib/python3.6/dist-packages (from requests->alpaca-trade-api) (2.8)\n",
            "Requirement already satisfied: aiohttp in /usr/local/lib/python3.6/dist-packages (from alpha-vantage->alpaca-trade-api) (3.6.2)\n",
            "Requirement already satisfied: wrapt<2,>=1.10 in /usr/local/lib/python3.6/dist-packages (from deprecated->alpaca-trade-api) (1.12.1)\n",
            "Requirement already satisfied: six in /usr/local/lib/python3.6/dist-packages (from websocket-client->alpaca-trade-api) (1.12.0)\n",
            "Requirement already satisfied: typing-extensions>=3.6.5; python_version < \"3.7\" in /usr/local/lib/python3.6/dist-packages (from aiohttp->alpha-vantage->alpaca-trade-api) (3.6.6)\n",
            "Requirement already satisfied: multidict<5.0,>=4.5 in /usr/local/lib/python3.6/dist-packages (from aiohttp->alpha-vantage->alpaca-trade-api) (4.7.5)\n",
            "Requirement already satisfied: idna-ssl>=1.0; python_version < \"3.7\" in /usr/local/lib/python3.6/dist-packages (from aiohttp->alpha-vantage->alpaca-trade-api) (1.1.0)\n",
            "Requirement already satisfied: yarl<2.0,>=1.0 in /usr/local/lib/python3.6/dist-packages (from aiohttp->alpha-vantage->alpaca-trade-api) (1.4.2)\n",
            "Requirement already satisfied: async-timeout<4.0,>=3.0 in /usr/local/lib/python3.6/dist-packages (from aiohttp->alpha-vantage->alpaca-trade-api) (3.0.1)\n",
            "Requirement already satisfied: attrs>=17.3.0 in /usr/local/lib/python3.6/dist-packages (from aiohttp->alpha-vantage->alpaca-trade-api) (19.3.0)\n"
          ],
          "name": "stdout"
        }
      ]
    },
    {
      "cell_type": "markdown",
      "metadata": {
        "id": "yQBY5YUQHOFa",
        "colab_type": "text"
      },
      "source": [
        "### Load Packages"
      ]
    },
    {
      "cell_type": "code",
      "metadata": {
        "id": "-L2VhqbaGk6p",
        "colab_type": "code",
        "colab": {}
      },
      "source": [
        "import alpaca_trade_api as alpaca"
      ],
      "execution_count": 0,
      "outputs": []
    },
    {
      "cell_type": "markdown",
      "metadata": {
        "id": "5BW8T2ANGbbR",
        "colab_type": "text"
      },
      "source": [
        "### Check Account And Balance"
      ]
    },
    {
      "cell_type": "code",
      "metadata": {
        "id": "VToNCs-TBZJc",
        "colab_type": "code",
        "outputId": "0d50d16a-267e-4081-9e36-7fbda8d08edd",
        "colab": {
          "base_uri": "https://localhost:8080/",
          "height": 50
        }
      },
      "source": [
        "APCA_API_KEY_ID=\"PKS7U1T5CC1RTL6917A3\"\n",
        "APCA_API_SECRET_KEY=\"itjlpEgKp4dIJBWTHz4hPs9nwtghGQdHJwgmy/Of\"\n",
        "\n",
        "api = alpaca.REST(APCA_API_KEY_ID, APCA_API_SECRET_KEY, 'https://paper-api.alpaca.markets')\n",
        "\n",
        "account = api.get_account() \n",
        "# Check if our account is restricted from trading.\n",
        "if account.trading_blocked:\n",
        "    print('Account is currently restricted from trading.')\n",
        "\n",
        "# Check how much money we can use to open new positions.\n",
        "print('${} is available as buying power.'.format(account.buying_power))\n",
        "\n",
        "# Check our current balance vs. our balance at the last market close\n",
        "balance_change = float(account.equity) - float(account.last_equity)\n",
        "print(f'Today\\'s portfolio balance change: ${balance_change}')"
      ],
      "execution_count": 0,
      "outputs": [
        {
          "output_type": "stream",
          "text": [
            "$399415.4 is available as buying power.\n",
            "Today's portfolio balance change: $0.0\n"
          ],
          "name": "stdout"
        }
      ]
    },
    {
      "cell_type": "markdown",
      "metadata": {
        "id": "CEJdoEdgGHnv",
        "colab_type": "text"
      },
      "source": [
        "### Get account info"
      ]
    }
  ]
}